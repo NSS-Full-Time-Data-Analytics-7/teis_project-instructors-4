{
 "cells": [
  {
   "cell_type": "markdown",
   "metadata": {},
   "source": [
    "# TEIS Referral Project"
   ]
  },
  {
   "cell_type": "markdown",
   "metadata": {},
   "source": [
    "# Table of Contents"
   ]
  },
  {
   "cell_type": "markdown",
   "metadata": {},
   "source": [
    "## Imports"
   ]
  },
  {
   "cell_type": "code",
   "execution_count": 1,
   "metadata": {},
   "outputs": [
    {
     "name": "stderr",
     "output_type": "stream",
     "text": [
      "c:\\Users\\jrior\\anaconda3\\lib\\site-packages\\scipy\\__init__.py:138: UserWarning: A NumPy version >=1.16.5 and <1.23.0 is required for this version of SciPy (detected version 1.23.0)\n",
      "  warnings.warn(f\"A NumPy version >={np_minversion} and <{np_maxversion} is required for this version of \"\n"
     ]
    }
   ],
   "source": [
    "import numpy as np\n",
    "import pandas as pd\n",
    "import matplotlib.pyplot as plt\n",
    "import seaborn as sns\n",
    "import plotly.express as px\n",
    "\n",
    "from scipy.stats import ttest_ind_from_stats\n",
    "from statsmodels.stats.proportion import proportions_ztest"
   ]
  },
  {
   "cell_type": "markdown",
   "metadata": {},
   "source": [
    "## Dictionaries"
   ]
  },
  {
   "cell_type": "code",
   "execution_count": 2,
   "metadata": {},
   "outputs": [],
   "source": [
    "poe_dict = {\n",
    "    \n",
    "    'FT': 'First Tennessee',\n",
    "    'UC': 'Upper Cumberland',\n",
    "    'NW':'Northwest',\n",
    "    'ET': 'East Tennessee',\n",
    "    'GN': 'Greater Nashville',\n",
    "    'SW': 'Southwest',\n",
    "    'SE': 'Southeast',\n",
    "    'SC': 'South Central',\n",
    "    'MD': 'Memphis Delta'\n",
    "\n",
    "}"
   ]
  },
  {
   "cell_type": "markdown",
   "metadata": {},
   "source": [
    "## Methods"
   ]
  },
  {
   "cell_type": "code",
   "execution_count": null,
   "metadata": {},
   "outputs": [],
   "source": [
    "def calc_rerefs( self , group, proportion = False, as_percentage = False):\n",
    "    \"\"\"\n",
    "    Bound method on pandas Dataframe.\n",
    "    Takes input dataframe instance and returns count or proportion of re-referrals according to input group.\n",
    "    \"\"\"\n",
    "    \n",
    "    # get rows of children who get re-referred\n",
    "    rerefs = self[self.duplicated(subset = 'Child ID', keep = False)]\n",
    "\n",
    "    # calculate count or proportion by input group\n",
    "    if proportion:\n",
    "        group_calc = rerefs.groupby(group)['Child ID'].count() / self.groupby(group)['Child ID'].count()\n",
    "    else:\n",
    "        group_calc = rerefs.groupby(group)['Child ID'].count()\n",
    "\n",
    "    # return group calculation with optional formatting\n",
    "    if as_percentage:\n",
    "        return group_calc.map(lambda x: '{:,.2%}'.format(x))\n",
    "    else:\n",
    "        return group_calc\n",
    "\n",
    "pd.DataFrame.calc_rerefs = calc_rerefs"
   ]
  },
  {
   "cell_type": "markdown",
   "metadata": {},
   "source": [
    "## Functions"
   ]
  },
  {
   "cell_type": "code",
   "execution_count": 3,
   "metadata": {},
   "outputs": [],
   "source": [
    "def ztest_against_pop(series):\n",
    "    return proportions_ztest(count = [series['sum'], overall_referral_successes], \n",
    "                             nobs = [series['count'], overall_referral_counts])\n",
    "\n",
    "def ttest_against_pop(series):\n",
    "    return ttest_ind_from_stats(mean1 = series['mean'], \n",
    "                        std1 = series['std'], \n",
    "                        nobs1 = series['count'],\n",
    "                        mean2 = overall_mean_age_at_referral, \n",
    "                        std2 = overall_std_age_at_referral, \n",
    "                        nobs2 = overall_count_age_at_referral\n",
    "                    )\n",
    "\n",
    "\n",
    "def test_to_df(df, func):\n",
    "    test_stats = [func(row)[0] for poe, row in df.iterrows()]\n",
    "    pvals = [func(row)[1] for poe, row in df.iterrows()]\n",
    "    highlows = ['high' if stat > 0  else 'low' for stat in test_stats]\n",
    "    significances = [pval < 0.05 for pval in pvals]\n",
    "\n",
    "    new_df = (df.assign(test_stat = test_stats,\n",
    "                                pval = pvals,\n",
    "                                high_or_low = highlows,\n",
    "                                significant = significances)\n",
    "                        .sort_values('test_stat', ascending = False)\n",
    "            )\n",
    "\n",
    "    return new_df"
   ]
  },
  {
   "cell_type": "markdown",
   "metadata": {},
   "source": [
    "## Get data"
   ]
  },
  {
   "cell_type": "code",
   "execution_count": 4,
   "metadata": {},
   "outputs": [
    {
     "data": {
      "text/html": [
       "<div>\n",
       "<style scoped>\n",
       "    .dataframe tbody tr th:only-of-type {\n",
       "        vertical-align: middle;\n",
       "    }\n",
       "\n",
       "    .dataframe tbody tr th {\n",
       "        vertical-align: top;\n",
       "    }\n",
       "\n",
       "    .dataframe thead th {\n",
       "        text-align: right;\n",
       "    }\n",
       "</style>\n",
       "<table border=\"1\" class=\"dataframe\">\n",
       "  <thead>\n",
       "    <tr style=\"text-align: right;\">\n",
       "      <th></th>\n",
       "      <th>POE</th>\n",
       "      <th>Child ID</th>\n",
       "      <th>DOB</th>\n",
       "      <th>County Name</th>\n",
       "      <th>County SES</th>\n",
       "      <th>Child Phase</th>\n",
       "      <th>Active</th>\n",
       "      <th>Service Coordinator</th>\n",
       "      <th>Notification Date</th>\n",
       "      <th>Parent Consent Date</th>\n",
       "      <th>Referral Source Type Name</th>\n",
       "      <th>Initial Eligibility</th>\n",
       "      <th>Initial Eligibility Date</th>\n",
       "      <th>Initial IFSP Date</th>\n",
       "      <th>Latest IFSP Date</th>\n",
       "      <th>Exit Reason</th>\n",
       "      <th>Exit Date</th>\n",
       "    </tr>\n",
       "  </thead>\n",
       "  <tbody>\n",
       "    <tr>\n",
       "      <th>0</th>\n",
       "      <td>ET</td>\n",
       "      <td>411812</td>\n",
       "      <td>2016-12-14</td>\n",
       "      <td>Blount</td>\n",
       "      <td>Transitional</td>\n",
       "      <td>Notification</td>\n",
       "      <td>I</td>\n",
       "      <td>Charity Decker</td>\n",
       "      <td>2016-12-16</td>\n",
       "      <td>NaT</td>\n",
       "      <td>DCS</td>\n",
       "      <td>NaN</td>\n",
       "      <td>NaT</td>\n",
       "      <td>NaT</td>\n",
       "      <td>NaT</td>\n",
       "      <td>Unable to contact</td>\n",
       "      <td>2016-12-29</td>\n",
       "    </tr>\n",
       "    <tr>\n",
       "      <th>1</th>\n",
       "      <td>ET</td>\n",
       "      <td>417398</td>\n",
       "      <td>2015-04-06</td>\n",
       "      <td>Knox</td>\n",
       "      <td>Transitional</td>\n",
       "      <td>Eligibility</td>\n",
       "      <td>I</td>\n",
       "      <td>Jackie Campbell</td>\n",
       "      <td>2017-04-24</td>\n",
       "      <td>2017-05-02</td>\n",
       "      <td>Parent</td>\n",
       "      <td>Ineligible</td>\n",
       "      <td>2017-05-16</td>\n",
       "      <td>NaT</td>\n",
       "      <td>NaT</td>\n",
       "      <td>Ineligible for Part C</td>\n",
       "      <td>2017-05-16</td>\n",
       "    </tr>\n",
       "    <tr>\n",
       "      <th>2</th>\n",
       "      <td>ET</td>\n",
       "      <td>419400</td>\n",
       "      <td>2016-03-04</td>\n",
       "      <td>Roane</td>\n",
       "      <td>Transitional</td>\n",
       "      <td>Notification</td>\n",
       "      <td>I</td>\n",
       "      <td>Kelly Brackney</td>\n",
       "      <td>2017-06-06</td>\n",
       "      <td>NaT</td>\n",
       "      <td>DCS</td>\n",
       "      <td>NaN</td>\n",
       "      <td>NaT</td>\n",
       "      <td>NaT</td>\n",
       "      <td>NaT</td>\n",
       "      <td>Parent decline</td>\n",
       "      <td>2017-06-30</td>\n",
       "    </tr>\n",
       "    <tr>\n",
       "      <th>3</th>\n",
       "      <td>ET</td>\n",
       "      <td>397571</td>\n",
       "      <td>2015-05-11</td>\n",
       "      <td>Knox</td>\n",
       "      <td>Transitional</td>\n",
       "      <td>Eligibility</td>\n",
       "      <td>I</td>\n",
       "      <td>Wendy Burton</td>\n",
       "      <td>2017-05-24</td>\n",
       "      <td>2017-06-13</td>\n",
       "      <td>Other</td>\n",
       "      <td>Ineligible</td>\n",
       "      <td>2017-06-16</td>\n",
       "      <td>NaT</td>\n",
       "      <td>NaT</td>\n",
       "      <td>Ineligible for Part C</td>\n",
       "      <td>2017-06-16</td>\n",
       "    </tr>\n",
       "    <tr>\n",
       "      <th>4</th>\n",
       "      <td>ET</td>\n",
       "      <td>404648</td>\n",
       "      <td>2015-09-23</td>\n",
       "      <td>Knox</td>\n",
       "      <td>Transitional</td>\n",
       "      <td>IFSP</td>\n",
       "      <td>I</td>\n",
       "      <td>Sarah Scott</td>\n",
       "      <td>2016-07-18</td>\n",
       "      <td>2016-07-28</td>\n",
       "      <td>Other</td>\n",
       "      <td>Eligible</td>\n",
       "      <td>2016-08-01</td>\n",
       "      <td>2016-08-16</td>\n",
       "      <td>2018-07-24</td>\n",
       "      <td>618 - Part B eligibility not determined</td>\n",
       "      <td>2018-09-21</td>\n",
       "    </tr>\n",
       "  </tbody>\n",
       "</table>\n",
       "</div>"
      ],
      "text/plain": [
       "  POE  Child ID        DOB County Name   County SES    Child Phase Active  \\\n",
       "0  ET    411812 2016-12-14      Blount  Transitional  Notification      I   \n",
       "1  ET    417398 2015-04-06        Knox  Transitional   Eligibility      I   \n",
       "2  ET    419400 2016-03-04       Roane  Transitional  Notification      I   \n",
       "3  ET    397571 2015-05-11        Knox  Transitional   Eligibility      I   \n",
       "4  ET    404648 2015-09-23        Knox  Transitional          IFSP      I   \n",
       "\n",
       "  Service Coordinator Notification Date Parent Consent Date  \\\n",
       "0      Charity Decker        2016-12-16                 NaT   \n",
       "1     Jackie Campbell        2017-04-24          2017-05-02   \n",
       "2      Kelly Brackney        2017-06-06                 NaT   \n",
       "3        Wendy Burton        2017-05-24          2017-06-13   \n",
       "4         Sarah Scott        2016-07-18          2016-07-28   \n",
       "\n",
       "  Referral Source Type Name Initial Eligibility Initial Eligibility Date  \\\n",
       "0                       DCS                 NaN                      NaT   \n",
       "1                    Parent          Ineligible               2017-05-16   \n",
       "2                       DCS                 NaN                      NaT   \n",
       "3                     Other          Ineligible               2017-06-16   \n",
       "4                     Other            Eligible               2016-08-01   \n",
       "\n",
       "  Initial IFSP Date Latest IFSP Date                              Exit Reason  \\\n",
       "0               NaT              NaT                        Unable to contact   \n",
       "1               NaT              NaT                    Ineligible for Part C   \n",
       "2               NaT              NaT                           Parent decline   \n",
       "3               NaT              NaT                    Ineligible for Part C   \n",
       "4        2016-08-16       2018-07-24  618 - Part B eligibility not determined   \n",
       "\n",
       "   Exit Date  \n",
       "0 2016-12-29  \n",
       "1 2017-05-16  \n",
       "2 2017-06-30  \n",
       "3 2017-06-16  \n",
       "4 2018-09-21  "
      ]
     },
     "execution_count": 4,
     "metadata": {},
     "output_type": "execute_result"
    }
   ],
   "source": [
    "summary = pd.read_excel('../data/TEIS Referral Data for NSS pulled 7-1-22.xlsx')\n",
    "summary.head()"
   ]
  },
  {
   "cell_type": "code",
   "execution_count": 5,
   "metadata": {},
   "outputs": [
    {
     "data": {
      "text/html": [
       "<div>\n",
       "<style scoped>\n",
       "    .dataframe tbody tr th:only-of-type {\n",
       "        vertical-align: middle;\n",
       "    }\n",
       "\n",
       "    .dataframe tbody tr th {\n",
       "        vertical-align: top;\n",
       "    }\n",
       "\n",
       "    .dataframe thead th {\n",
       "        text-align: right;\n",
       "    }\n",
       "</style>\n",
       "<table border=\"1\" class=\"dataframe\">\n",
       "  <thead>\n",
       "    <tr style=\"text-align: right;\">\n",
       "      <th></th>\n",
       "      <th>POE</th>\n",
       "      <th>Child ID</th>\n",
       "      <th>DOB</th>\n",
       "      <th>County Name</th>\n",
       "      <th>County SES</th>\n",
       "      <th>Child Phase</th>\n",
       "      <th>Active</th>\n",
       "      <th>Service Coordinator</th>\n",
       "      <th>Notification/ Referral Date</th>\n",
       "      <th>Parent Consent Date</th>\n",
       "      <th>...</th>\n",
       "      <th>Service Coordinator Counter</th>\n",
       "      <th>Fiscal Year.1</th>\n",
       "      <th>Child Count</th>\n",
       "      <th>2012 Child Count</th>\n",
       "      <th>2013 Child Count</th>\n",
       "      <th>third DOB</th>\n",
       "      <th>Late Referral</th>\n",
       "      <th>Qtr</th>\n",
       "      <th>QTR</th>\n",
       "      <th>Referral Source Category</th>\n",
       "    </tr>\n",
       "  </thead>\n",
       "  <tbody>\n",
       "    <tr>\n",
       "      <th>0</th>\n",
       "      <td>ET</td>\n",
       "      <td>403339</td>\n",
       "      <td>2014-08-09</td>\n",
       "      <td>Blount</td>\n",
       "      <td>Transitional</td>\n",
       "      <td>Eligibility</td>\n",
       "      <td>A</td>\n",
       "      <td>Kristi Borer</td>\n",
       "      <td>2016-07-01</td>\n",
       "      <td>2016-07-01</td>\n",
       "      <td>...</td>\n",
       "      <td>1</td>\n",
       "      <td>2016</td>\n",
       "      <td>1</td>\n",
       "      <td>NaN</td>\n",
       "      <td>NaN</td>\n",
       "      <td>2017-08-09</td>\n",
       "      <td>NaN</td>\n",
       "      <td>1</td>\n",
       "      <td>Qtr 1</td>\n",
       "      <td>NaN</td>\n",
       "    </tr>\n",
       "    <tr>\n",
       "      <th>1</th>\n",
       "      <td>FT</td>\n",
       "      <td>404085</td>\n",
       "      <td>2013-07-31</td>\n",
       "      <td>Unicoi</td>\n",
       "      <td>At-Risk</td>\n",
       "      <td>Notification</td>\n",
       "      <td>I</td>\n",
       "      <td>Jennifer Terranera - 45 days</td>\n",
       "      <td>2016-07-01</td>\n",
       "      <td>NaT</td>\n",
       "      <td>...</td>\n",
       "      <td>1</td>\n",
       "      <td>2016</td>\n",
       "      <td>1</td>\n",
       "      <td>NaN</td>\n",
       "      <td>NaN</td>\n",
       "      <td>2016-07-31</td>\n",
       "      <td>1.0</td>\n",
       "      <td>1</td>\n",
       "      <td>Qtr 1</td>\n",
       "      <td>NaN</td>\n",
       "    </tr>\n",
       "    <tr>\n",
       "      <th>2</th>\n",
       "      <td>FT</td>\n",
       "      <td>403623</td>\n",
       "      <td>2016-02-05</td>\n",
       "      <td>Sullivan</td>\n",
       "      <td>Transitional</td>\n",
       "      <td>Eligibility</td>\n",
       "      <td>A</td>\n",
       "      <td>Amy Talbert</td>\n",
       "      <td>2016-07-01</td>\n",
       "      <td>2016-07-20</td>\n",
       "      <td>...</td>\n",
       "      <td>1</td>\n",
       "      <td>2016</td>\n",
       "      <td>1</td>\n",
       "      <td>NaN</td>\n",
       "      <td>NaN</td>\n",
       "      <td>2019-02-05</td>\n",
       "      <td>NaN</td>\n",
       "      <td>1</td>\n",
       "      <td>Qtr 1</td>\n",
       "      <td>NaN</td>\n",
       "    </tr>\n",
       "    <tr>\n",
       "      <th>3</th>\n",
       "      <td>FT</td>\n",
       "      <td>404157</td>\n",
       "      <td>2015-12-06</td>\n",
       "      <td>Sullivan</td>\n",
       "      <td>Transitional</td>\n",
       "      <td>IFSP</td>\n",
       "      <td>A</td>\n",
       "      <td>Candice Cradic</td>\n",
       "      <td>2016-07-01</td>\n",
       "      <td>2016-07-22</td>\n",
       "      <td>...</td>\n",
       "      <td>1</td>\n",
       "      <td>2016</td>\n",
       "      <td>1</td>\n",
       "      <td>NaN</td>\n",
       "      <td>NaN</td>\n",
       "      <td>2018-12-06</td>\n",
       "      <td>NaN</td>\n",
       "      <td>1</td>\n",
       "      <td>Qtr 1</td>\n",
       "      <td>NaN</td>\n",
       "    </tr>\n",
       "    <tr>\n",
       "      <th>4</th>\n",
       "      <td>FT</td>\n",
       "      <td>404154</td>\n",
       "      <td>2015-04-18</td>\n",
       "      <td>Hawkins</td>\n",
       "      <td>At-Risk</td>\n",
       "      <td>IFSP</td>\n",
       "      <td>A</td>\n",
       "      <td>Kathy Jeffries</td>\n",
       "      <td>2016-07-01</td>\n",
       "      <td>2016-07-18</td>\n",
       "      <td>...</td>\n",
       "      <td>1</td>\n",
       "      <td>2016</td>\n",
       "      <td>1</td>\n",
       "      <td>NaN</td>\n",
       "      <td>NaN</td>\n",
       "      <td>2018-04-18</td>\n",
       "      <td>NaN</td>\n",
       "      <td>1</td>\n",
       "      <td>Qtr 1</td>\n",
       "      <td>NaN</td>\n",
       "    </tr>\n",
       "  </tbody>\n",
       "</table>\n",
       "<p>5 rows × 34 columns</p>\n",
       "</div>"
      ],
      "text/plain": [
       "  POE  Child ID        DOB County Name    County SES   Child Phase Active  \\\n",
       "0  ET    403339 2014-08-09      Blount  Transitional   Eligibility      A   \n",
       "1  FT    404085 2013-07-31      Unicoi       At-Risk  Notification      I   \n",
       "2  FT    403623 2016-02-05    Sullivan  Transitional   Eligibility      A   \n",
       "3  FT    404157 2015-12-06    Sullivan  Transitional          IFSP      A   \n",
       "4  FT    404154 2015-04-18     Hawkins       At-Risk          IFSP      A   \n",
       "\n",
       "            Service Coordinator Notification/ Referral Date  \\\n",
       "0                  Kristi Borer                  2016-07-01   \n",
       "1  Jennifer Terranera - 45 days                  2016-07-01   \n",
       "2                   Amy Talbert                  2016-07-01   \n",
       "3                Candice Cradic                  2016-07-01   \n",
       "4                Kathy Jeffries                  2016-07-01   \n",
       "\n",
       "  Parent Consent Date  ... Service Coordinator Counter Fiscal Year.1  \\\n",
       "0          2016-07-01  ...                           1          2016   \n",
       "1                 NaT  ...                           1          2016   \n",
       "2          2016-07-20  ...                           1          2016   \n",
       "3          2016-07-22  ...                           1          2016   \n",
       "4          2016-07-18  ...                           1          2016   \n",
       "\n",
       "  Child Count 2012 Child Count 2013 Child Count  third DOB Late Referral Qtr  \\\n",
       "0           1              NaN              NaN 2017-08-09           NaN   1   \n",
       "1           1              NaN              NaN 2016-07-31           1.0   1   \n",
       "2           1              NaN              NaN 2019-02-05           NaN   1   \n",
       "3           1              NaN              NaN 2018-12-06           NaN   1   \n",
       "4           1              NaN              NaN 2018-04-18           NaN   1   \n",
       "\n",
       "    QTR  Referral Source Category  \n",
       "0  Qtr 1                      NaN  \n",
       "1  Qtr 1                      NaN  \n",
       "2  Qtr 1                      NaN  \n",
       "3  Qtr 1                      NaN  \n",
       "4  Qtr 1                      NaN  \n",
       "\n",
       "[5 rows x 34 columns]"
      ]
     },
     "execution_count": 5,
     "metadata": {},
     "output_type": "execute_result"
    }
   ],
   "source": [
    "monthly = pd.read_excel('../data/TEIS Referral Data for NSS Compiled Monthly.xlsx')\n",
    "monthly.head()"
   ]
  },
  {
   "cell_type": "markdown",
   "metadata": {},
   "source": [
    "How many Child IDs are in the monthly dataframe and not the summary df? Vice-versa?"
   ]
  },
  {
   "cell_type": "code",
   "execution_count": 6,
   "metadata": {},
   "outputs": [
    {
     "data": {
      "text/plain": [
       "175"
      ]
     },
     "execution_count": 6,
     "metadata": {},
     "output_type": "execute_result"
    }
   ],
   "source": [
    "# monthly Child IDs not in summary\n",
    "month_not_sum = (~monthly['Child ID'].isin(summary['Child ID'])).sum()\n",
    "month_not_sum"
   ]
  },
  {
   "cell_type": "code",
   "execution_count": 7,
   "metadata": {},
   "outputs": [
    {
     "data": {
      "text/plain": [
       "1793"
      ]
     },
     "execution_count": 7,
     "metadata": {},
     "output_type": "execute_result"
    }
   ],
   "source": [
    "# summary Child IDs not in monthly\n",
    "sum_not_month = (~summary['Child ID'].isin(monthly['Child ID'])).sum()\n",
    "sum_not_month"
   ]
  },
  {
   "cell_type": "markdown",
   "metadata": {},
   "source": [
    "## Overview"
   ]
  },
  {
   "cell_type": "code",
   "execution_count": 8,
   "metadata": {},
   "outputs": [
    {
     "name": "stdout",
     "output_type": "stream",
     "text": [
      "<class 'pandas.core.frame.DataFrame'>\n",
      "RangeIndex: 96580 entries, 0 to 96579\n",
      "Data columns (total 17 columns):\n",
      " #   Column                     Non-Null Count  Dtype         \n",
      "---  ------                     --------------  -----         \n",
      " 0   POE                        96580 non-null  object        \n",
      " 1   Child ID                   96580 non-null  int64         \n",
      " 2   DOB                        96580 non-null  datetime64[ns]\n",
      " 3   County Name                96576 non-null  object        \n",
      " 4   County SES                 96576 non-null  object        \n",
      " 5   Child Phase                96580 non-null  object        \n",
      " 6   Active                     96580 non-null  object        \n",
      " 7   Service Coordinator        96579 non-null  object        \n",
      " 8   Notification Date          96580 non-null  datetime64[ns]\n",
      " 9   Parent Consent Date        70026 non-null  datetime64[ns]\n",
      " 10  Referral Source Type Name  96580 non-null  object        \n",
      " 11  Initial Eligibility        68221 non-null  object        \n",
      " 12  Initial Eligibility Date   68221 non-null  datetime64[ns]\n",
      " 13  Initial IFSP Date          45493 non-null  datetime64[ns]\n",
      " 14  Latest IFSP Date           44331 non-null  datetime64[ns]\n",
      " 15  Exit Reason                85194 non-null  object        \n",
      " 16  Exit Date                  85194 non-null  datetime64[ns]\n",
      "dtypes: datetime64[ns](7), int64(1), object(9)\n",
      "memory usage: 12.5+ MB\n"
     ]
    }
   ],
   "source": [
    "summary.info()"
   ]
  },
  {
   "cell_type": "code",
   "execution_count": 9,
   "metadata": {},
   "outputs": [
    {
     "data": {
      "text/plain": [
       "Index(['POE', 'Child ID', 'DOB', 'County Name', 'County SES', 'Child Phase',\n",
       "       'Active', 'Service Coordinator', 'Notification/ Referral Date',\n",
       "       'Parent Consent Date', 'Referral Source Type Name',\n",
       "       'Initial Eligibility', 'Initial Eligibility Date', 'Initial IFSP Date',\n",
       "       'Latest IFSP Date', 'Exit Reason', 'Exit Date', 'Fiscal Year',\n",
       "       'Notification Month', 'Tenn Region', 'Referral Count',\n",
       "       'Evaluation Count', 'Eligibility Count', 'IFSP Count',\n",
       "       'Service Coordinator Counter', 'Fiscal Year.1', 'Child Count',\n",
       "       '2012 Child Count', '2013 Child Count', 'third DOB', 'Late Referral',\n",
       "       'Qtr', ' QTR ', 'Referral Source Category'],\n",
       "      dtype='object')"
      ]
     },
     "execution_count": 9,
     "metadata": {},
     "output_type": "execute_result"
    }
   ],
   "source": [
    "monthly.columns"
   ]
  },
  {
   "cell_type": "markdown",
   "metadata": {},
   "source": [
    "Based simply on the number of unique Child IDs in each table, there's some discrepancy in tracking."
   ]
  },
  {
   "cell_type": "code",
   "execution_count": 10,
   "metadata": {},
   "outputs": [
    {
     "name": "stdout",
     "output_type": "stream",
     "text": [
      "summary distinct Child IDs: 96580 \n",
      "monthly distinct Child IDs: 94950 \n",
      "difference: 1630\n"
     ]
    }
   ],
   "source": [
    "print('summary distinct Child IDs:', summary['Child ID'].nunique(), \n",
    "      '\\nmonthly distinct Child IDs:', monthly['Child ID'].nunique(),\n",
    "      '\\ndifference:', summary['Child ID'].nunique() - monthly['Child ID'].nunique())"
   ]
  },
  {
   "cell_type": "markdown",
   "metadata": {},
   "source": [
    "## Q1\n",
    "- What is the rate of re-referral?\n",
    "- How many children have multiple referrals \n",
    "    - by year\n",
    "    - by Point of Entry Office (POE)"
   ]
  },
  {
   "cell_type": "code",
   "execution_count": 11,
   "metadata": {},
   "outputs": [],
   "source": [
    "def reref_calc(df, proportion = False, as_percentage = False):\n",
    "    \"\"\"Use value counts over 1 to determine how many or what proportion of children get re-referrals.\"\"\"\n",
    "    if proportion:\n",
    "        calc = (df['Child ID'].value_counts() > 1).mean()\n",
    "    else:\n",
    "        calc = (df['Child ID'].value_counts() > 1).sum()\n",
    "\n",
    "    if as_percentage:\n",
    "        return \"{:.2%}\".format(calc)\n",
    "    else:\n",
    "        return calc\n"
   ]
  },
  {
   "cell_type": "markdown",
   "metadata": {},
   "source": [
    "### What is the rate of re-referral?"
   ]
  },
  {
   "cell_type": "code",
   "execution_count": 12,
   "metadata": {},
   "outputs": [
    {
     "name": "stdout",
     "output_type": "stream",
     "text": [
      "16.08% of all children get re-referrals.\n"
     ]
    }
   ],
   "source": [
    "print(reref_calc(monthly, proportion = True, as_percentage=True), \"of all children get re-referrals.\")"
   ]
  },
  {
   "cell_type": "markdown",
   "metadata": {
    "vscode": {
     "languageId": "python"
    }
   },
   "source": [
    "### How many children have multiple referrals by year and by POE?"
   ]
  },
  {
   "cell_type": "markdown",
   "metadata": {},
   "source": [
    "This approach first groups then looks for re-referrals. It therefore looks for re-referrals within each group rather than across the whole data set."
   ]
  },
  {
   "cell_type": "code",
   "execution_count": 13,
   "metadata": {},
   "outputs": [
    {
     "data": {
      "text/plain": [
       "POE  Fiscal Year\n",
       "ET   2016-2017       8.61%\n",
       "     2017-2018       8.46%\n",
       "     2018-2019       7.59%\n",
       "     2019-2020       8.06%\n",
       "     2020-2021       8.75%\n",
       "     2021-2022       7.70%\n",
       "FT   2016-2017       8.02%\n",
       "     2017-2018       8.96%\n",
       "     2018-2019       8.44%\n",
       "     2019-2020       7.06%\n",
       "     2020-2021       6.90%\n",
       "     2021-2022       7.72%\n",
       "GN   2016-2017      10.35%\n",
       "     2017-2018       9.10%\n",
       "     2018-2019       6.20%\n",
       "     2019-2020       8.49%\n",
       "     2020-2021      10.59%\n",
       "     2021-2022       9.62%\n",
       "MD   2016-2017      11.81%\n",
       "     2017-2018      11.14%\n",
       "     2018-2019      10.89%\n",
       "     2019-2020       8.20%\n",
       "     2020-2021       8.26%\n",
       "     2021-2022       8.15%\n",
       "NW   2016-2017       7.29%\n",
       "     2017-2018       8.13%\n",
       "     2018-2019       6.28%\n",
       "     2019-2020       8.40%\n",
       "     2020-2021       8.03%\n",
       "     2021-2022       7.75%\n",
       "SC   2016-2017       8.77%\n",
       "     2017-2018       7.87%\n",
       "     2018-2019       5.59%\n",
       "     2019-2020       9.51%\n",
       "     2020-2021       9.02%\n",
       "     2021-2022       7.94%\n",
       "SE   2016-2017       5.11%\n",
       "     2017-2018       5.06%\n",
       "     2018-2019       4.97%\n",
       "     2019-2020       7.27%\n",
       "     2020-2021       5.87%\n",
       "     2021-2022       6.78%\n",
       "SW   2016-2017       7.37%\n",
       "     2017-2018       6.40%\n",
       "     2018-2019       6.40%\n",
       "     2019-2020       8.33%\n",
       "     2020-2021       8.32%\n",
       "     2021-2022       7.05%\n",
       "UC   2016-2017       6.35%\n",
       "     2017-2018       6.14%\n",
       "     2018-2019       6.63%\n",
       "     2019-2020       7.77%\n",
       "     2020-2021       8.92%\n",
       "     2021-2022       8.68%\n",
       "dtype: object"
      ]
     },
     "execution_count": 13,
     "metadata": {},
     "output_type": "execute_result"
    }
   ],
   "source": [
    "# by fiscal year\n",
    "monthly.groupby('Fiscal Year').apply(reref_calc)\n",
    "monthly.groupby('Fiscal Year').apply(reref_calc, proportion = True, as_percentage = True)\n",
    "\n",
    "# by poe\n",
    "monthly.groupby('POE').apply(reref_calc).sort_values(ascending = False)\n",
    "monthly.groupby('POE').apply(reref_calc, proportion = True, as_percentage = True).sort_values(ascending=False)\n",
    "\n",
    "# by both poe and fiscal year\n",
    "monthly.groupby(['POE','Fiscal Year']).apply(reref_calc).sort_index()\n",
    "monthly.groupby(['POE', 'Fiscal Year']).apply(reref_calc, proportion = True, as_percentage = True).sort_index()"
   ]
  },
  {
   "cell_type": "markdown",
   "metadata": {},
   "source": [
    "If we instead want to keep duplicates across the data set and then count, we go this route (and get larger numbers).\n",
    "\n",
    "(Note that this includes any referral of a child who was re-referred at any point. So if a child has two referrals, both are in this set.)"
   ]
  },
  {
   "cell_type": "markdown",
   "metadata": {},
   "source": [
    "Get re-referrals by fiscal year."
   ]
  },
  {
   "cell_type": "code",
   "execution_count": 15,
   "metadata": {},
   "outputs": [
    {
     "data": {
      "text/plain": [
       "Fiscal Year\n",
       "2016-2017    4297\n",
       "2017-2018    5594\n",
       "2018-2019    6014\n",
       "2019-2020    6337\n",
       "2020-2021    6505\n",
       "2021-2022    4826\n",
       "Name: Child ID, dtype: int64"
      ]
     },
     "execution_count": 15,
     "metadata": {},
     "output_type": "execute_result"
    }
   ],
   "source": [
    "monthly.calc_rerefs(group = 'Fiscal Year')"
   ]
  },
  {
   "cell_type": "code",
   "execution_count": 16,
   "metadata": {},
   "outputs": [
    {
     "data": {
      "text/plain": [
       "Fiscal Year\n",
       "2016-2017    26.05%\n",
       "2017-2018    31.40%\n",
       "2018-2019    30.07%\n",
       "2019-2020    33.38%\n",
       "2020-2021    31.35%\n",
       "2021-2022    25.12%\n",
       "Name: Child ID, dtype: object"
      ]
     },
     "execution_count": 16,
     "metadata": {},
     "output_type": "execute_result"
    }
   ],
   "source": [
    "monthly.calc_rerefs(group = 'Fiscal Year', proportion=True, as_percentage=True)"
   ]
  },
  {
   "cell_type": "markdown",
   "metadata": {},
   "source": [
    "Get re-referrals by POE"
   ]
  },
  {
   "cell_type": "code",
   "execution_count": 17,
   "metadata": {},
   "outputs": [
    {
     "data": {
      "text/plain": [
       "POE\n",
       "ET    6161\n",
       "FT    3358\n",
       "GN    6215\n",
       "MD    5695\n",
       "NW    1986\n",
       "SC    3966\n",
       "SE    2018\n",
       "SW    1746\n",
       "UC    2428\n",
       "Name: Child ID, dtype: int64"
      ]
     },
     "execution_count": 17,
     "metadata": {},
     "output_type": "execute_result"
    }
   ],
   "source": [
    "monthly.calc_rerefs(group = 'POE')"
   ]
  },
  {
   "cell_type": "code",
   "execution_count": 18,
   "metadata": {},
   "outputs": [
    {
     "data": {
      "text/plain": [
       "POE\n",
       "ET    30.46%\n",
       "FT    30.14%\n",
       "GN    31.14%\n",
       "MD    32.99%\n",
       "NW    30.53%\n",
       "SC    27.29%\n",
       "SE    23.53%\n",
       "SW    28.94%\n",
       "UC    26.91%\n",
       "Name: Child ID, dtype: object"
      ]
     },
     "execution_count": 18,
     "metadata": {},
     "output_type": "execute_result"
    }
   ],
   "source": [
    "monthly.calc_rerefs(group = 'POE', proportion=True, as_percentage=True)"
   ]
  },
  {
   "cell_type": "markdown",
   "metadata": {},
   "source": [
    "Get re-referrals by POE and fiscal year"
   ]
  },
  {
   "cell_type": "code",
   "execution_count": 19,
   "metadata": {},
   "outputs": [
    {
     "data": {
      "text/plain": [
       "POE  Fiscal Year\n",
       "ET   2016-2017       857\n",
       "     2017-2018      1069\n",
       "     2018-2019      1148\n",
       "     2019-2020      1159\n",
       "     2020-2021      1140\n",
       "     2021-2022       788\n",
       "FT   2016-2017       491\n",
       "     2017-2018       693\n",
       "     2018-2019       681\n",
       "     2019-2020       583\n",
       "     2020-2021       510\n",
       "     2021-2022       400\n",
       "GN   2016-2017       796\n",
       "     2017-2018       914\n",
       "     2018-2019       927\n",
       "     2019-2020      1160\n",
       "     2020-2021      1408\n",
       "     2021-2022      1010\n",
       "MD   2016-2017       800\n",
       "     2017-2018      1040\n",
       "     2018-2019      1175\n",
       "     2019-2020       956\n",
       "     2020-2021       964\n",
       "     2021-2022       760\n",
       "NW   2016-2017       230\n",
       "     2017-2018       338\n",
       "     2018-2019       352\n",
       "     2019-2020       415\n",
       "     2020-2021       373\n",
       "     2021-2022       278\n",
       "SC   2016-2017       483\n",
       "     2017-2018       624\n",
       "     2018-2019       618\n",
       "     2019-2020       816\n",
       "     2020-2021       834\n",
       "     2021-2022       591\n",
       "SE   2016-2017       170\n",
       "     2017-2018       273\n",
       "     2018-2019       398\n",
       "     2019-2020       460\n",
       "     2020-2021       394\n",
       "     2021-2022       323\n",
       "SW   2016-2017       218\n",
       "     2017-2018       298\n",
       "     2018-2019       327\n",
       "     2019-2020       329\n",
       "     2020-2021       335\n",
       "     2021-2022       239\n",
       "UC   2016-2017       252\n",
       "     2017-2018       345\n",
       "     2018-2019       388\n",
       "     2019-2020       459\n",
       "     2020-2021       547\n",
       "     2021-2022       437\n",
       "Name: Child ID, dtype: int64"
      ]
     },
     "execution_count": 19,
     "metadata": {},
     "output_type": "execute_result"
    }
   ],
   "source": [
    "monthly.calc_rerefs(group = ['POE', 'Fiscal Year'])"
   ]
  },
  {
   "cell_type": "code",
   "execution_count": 20,
   "metadata": {},
   "outputs": [
    {
     "data": {
      "text/plain": [
       "POE  Fiscal Year\n",
       "ET   2016-2017      27.17%\n",
       "     2017-2018      32.15%\n",
       "     2018-2019      32.21%\n",
       "     2019-2020      34.26%\n",
       "     2020-2021      32.38%\n",
       "     2021-2022      24.03%\n",
       "FT   2016-2017      26.71%\n",
       "     2017-2018      34.09%\n",
       "     2018-2019      33.66%\n",
       "     2019-2020      31.62%\n",
       "     2020-2021      28.76%\n",
       "     2021-2022      24.51%\n",
       "GN   2016-2017      28.64%\n",
       "     2017-2018      31.60%\n",
       "     2018-2019      26.92%\n",
       "     2019-2020      33.71%\n",
       "     2020-2021      36.53%\n",
       "     2021-2022      28.47%\n",
       "MD   2016-2017      31.57%\n",
       "     2017-2018      38.79%\n",
       "     2018-2019      36.97%\n",
       "     2019-2020      35.12%\n",
       "     2020-2021      30.27%\n",
       "     2021-2022      25.67%\n",
       "NW   2016-2017      23.93%\n",
       "     2017-2018      31.68%\n",
       "     2018-2019      31.91%\n",
       "     2019-2020      36.40%\n",
       "     2020-2021      31.48%\n",
       "     2021-2022      26.48%\n",
       "SC   2016-2017      24.64%\n",
       "     2017-2018      28.89%\n",
       "     2018-2019      24.50%\n",
       "     2019-2020      32.14%\n",
       "     2020-2021      29.83%\n",
       "     2021-2022      23.13%\n",
       "SE   2016-2017      16.83%\n",
       "     2017-2018      22.30%\n",
       "     2018-2019      24.72%\n",
       "     2019-2020      29.89%\n",
       "     2020-2021      24.19%\n",
       "     2021-2022      20.67%\n",
       "SW   2016-2017      22.90%\n",
       "     2017-2018      28.44%\n",
       "     2018-2019      31.02%\n",
       "     2019-2020      33.54%\n",
       "     2020-2021      32.78%\n",
       "     2021-2022      24.46%\n",
       "UC   2016-2017      19.24%\n",
       "     2017-2018      24.86%\n",
       "     2018-2019      25.87%\n",
       "     2019-2020      32.93%\n",
       "     2020-2021      30.63%\n",
       "     2021-2022      26.57%\n",
       "Name: Child ID, dtype: object"
      ]
     },
     "execution_count": 20,
     "metadata": {},
     "output_type": "execute_result"
    }
   ],
   "source": [
    "monthly.calc_rerefs(group = ['POE', 'Fiscal Year'], proportion=True, as_percentage=True)"
   ]
  },
  {
   "cell_type": "markdown",
   "metadata": {},
   "source": [
    "## Q2\n",
    "A referral is considered a \"successful\" referral if it results in an Individualized Family Service Plan (IFSP). \n",
    "- Are there referral sources that have had higher rates of successful referrals? \n",
    "\n",
    "You can determine whether a referral was successful by looking at whether the Initial IFSP Date column is filled in or whether the Child Phase column is equal to IFSP."
   ]
  },
  {
   "cell_type": "code",
   "execution_count": 21,
   "metadata": {},
   "outputs": [],
   "source": [
    "for col in monthly.filter(regex='.*Date.*').columns:\n",
    "    monthly[col] = pd.to_datetime(monthly[col], errors = 'coerce')"
   ]
  },
  {
   "cell_type": "code",
   "execution_count": 22,
   "metadata": {},
   "outputs": [],
   "source": [
    "monthly['Successful Referral'] = (monthly['Initial IFSP Date'].notna()) | (monthly['Child Phase'] == 'IFSP')"
   ]
  },
  {
   "cell_type": "code",
   "execution_count": 23,
   "metadata": {},
   "outputs": [
    {
     "name": "stdout",
     "output_type": "stream",
     "text": [
      "The overall referral success rate is 7.07%\n"
     ]
    }
   ],
   "source": [
    "overall_referral_success_rate = monthly['Successful Referral'].mean()\n",
    "overall_referral_successes = monthly['Successful Referral'].sum()\n",
    "overall_referral_counts = monthly['Successful Referral'].count()\n",
    "print(\"The overall referral success rate is\", '{:.2%}'.format(overall_referral_success_rate))"
   ]
  },
  {
   "cell_type": "code",
   "execution_count": 24,
   "metadata": {},
   "outputs": [],
   "source": [
    "source_referral_success_rate = (monthly.groupby('Referral Source Type Name')\n",
    "                                        ['Successful Referral']\n",
    "                                        .agg(['sum', 'count', 'mean', 'std'])\n",
    "                                        .sort_values('mean', ascending = False)\n",
    ")"
   ]
  },
  {
   "cell_type": "code",
   "execution_count": 25,
   "metadata": {},
   "outputs": [
    {
     "data": {
      "text/html": [
       "<div>\n",
       "<style scoped>\n",
       "    .dataframe tbody tr th:only-of-type {\n",
       "        vertical-align: middle;\n",
       "    }\n",
       "\n",
       "    .dataframe tbody tr th {\n",
       "        vertical-align: top;\n",
       "    }\n",
       "\n",
       "    .dataframe thead th {\n",
       "        text-align: right;\n",
       "    }\n",
       "</style>\n",
       "<table border=\"1\" class=\"dataframe\">\n",
       "  <thead>\n",
       "    <tr style=\"text-align: right;\">\n",
       "      <th></th>\n",
       "      <th>sum</th>\n",
       "      <th>count</th>\n",
       "      <th>mean</th>\n",
       "      <th>std</th>\n",
       "      <th>test_stat</th>\n",
       "      <th>pval</th>\n",
       "      <th>high_or_low</th>\n",
       "      <th>significant</th>\n",
       "    </tr>\n",
       "    <tr>\n",
       "      <th>Referral Source Type Name</th>\n",
       "      <th></th>\n",
       "      <th></th>\n",
       "      <th></th>\n",
       "      <th></th>\n",
       "      <th></th>\n",
       "      <th></th>\n",
       "      <th></th>\n",
       "      <th></th>\n",
       "    </tr>\n",
       "  </thead>\n",
       "  <tbody>\n",
       "    <tr>\n",
       "      <th>Parent</th>\n",
       "      <td>2494</td>\n",
       "      <td>21530</td>\n",
       "      <td>0.115838</td>\n",
       "      <td>0.320038</td>\n",
       "      <td>22.636088</td>\n",
       "      <td>1.912868e-113</td>\n",
       "      <td>high</td>\n",
       "      <td>True</td>\n",
       "    </tr>\n",
       "    <tr>\n",
       "      <th>Foster Parent</th>\n",
       "      <td>72</td>\n",
       "      <td>413</td>\n",
       "      <td>0.174334</td>\n",
       "      <td>0.379857</td>\n",
       "      <td>8.178266</td>\n",
       "      <td>2.879585e-16</td>\n",
       "      <td>high</td>\n",
       "      <td>True</td>\n",
       "    </tr>\n",
       "    <tr>\n",
       "      <th>PT</th>\n",
       "      <td>85</td>\n",
       "      <td>609</td>\n",
       "      <td>0.139573</td>\n",
       "      <td>0.346828</td>\n",
       "      <td>6.593837</td>\n",
       "      <td>4.286034e-11</td>\n",
       "      <td>high</td>\n",
       "      <td>True</td>\n",
       "    </tr>\n",
       "    <tr>\n",
       "      <th>DMRS</th>\n",
       "      <td>1</td>\n",
       "      <td>1</td>\n",
       "      <td>1.000000</td>\n",
       "      <td>NaN</td>\n",
       "      <td>3.624611</td>\n",
       "      <td>2.893972e-04</td>\n",
       "      <td>high</td>\n",
       "      <td>True</td>\n",
       "    </tr>\n",
       "    <tr>\n",
       "      <th>Family and Friends</th>\n",
       "      <td>55</td>\n",
       "      <td>507</td>\n",
       "      <td>0.108481</td>\n",
       "      <td>0.311294</td>\n",
       "      <td>3.305154</td>\n",
       "      <td>9.492438e-04</td>\n",
       "      <td>high</td>\n",
       "      <td>True</td>\n",
       "    </tr>\n",
       "    <tr>\n",
       "      <th>Other</th>\n",
       "      <td>221</td>\n",
       "      <td>2561</td>\n",
       "      <td>0.086294</td>\n",
       "      <td>0.280853</td>\n",
       "      <td>3.032475</td>\n",
       "      <td>2.425571e-03</td>\n",
       "      <td>high</td>\n",
       "      <td>True</td>\n",
       "    </tr>\n",
       "    <tr>\n",
       "      <th>Speech Therapist</th>\n",
       "      <td>64</td>\n",
       "      <td>638</td>\n",
       "      <td>0.100313</td>\n",
       "      <td>0.300653</td>\n",
       "      <td>2.903954</td>\n",
       "      <td>3.684823e-03</td>\n",
       "      <td>high</td>\n",
       "      <td>True</td>\n",
       "    </tr>\n",
       "    <tr>\n",
       "      <th>Dept. of Health</th>\n",
       "      <td>212</td>\n",
       "      <td>3631</td>\n",
       "      <td>0.058386</td>\n",
       "      <td>0.234504</td>\n",
       "      <td>-2.861933</td>\n",
       "      <td>4.210655e-03</td>\n",
       "      <td>low</td>\n",
       "      <td>True</td>\n",
       "    </tr>\n",
       "    <tr>\n",
       "      <th>NICU</th>\n",
       "      <td>184</td>\n",
       "      <td>3232</td>\n",
       "      <td>0.056931</td>\n",
       "      <td>0.231746</td>\n",
       "      <td>-3.023765</td>\n",
       "      <td>2.496500e-03</td>\n",
       "      <td>low</td>\n",
       "      <td>True</td>\n",
       "    </tr>\n",
       "    <tr>\n",
       "      <th>Hospital</th>\n",
       "      <td>422</td>\n",
       "      <td>7184</td>\n",
       "      <td>0.058742</td>\n",
       "      <td>0.235157</td>\n",
       "      <td>-3.859916</td>\n",
       "      <td>1.134260e-04</td>\n",
       "      <td>low</td>\n",
       "      <td>True</td>\n",
       "    </tr>\n",
       "    <tr>\n",
       "      <th>DCS</th>\n",
       "      <td>728</td>\n",
       "      <td>25346</td>\n",
       "      <td>0.028722</td>\n",
       "      <td>0.167029</td>\n",
       "      <td>-24.870941</td>\n",
       "      <td>1.535150e-136</td>\n",
       "      <td>low</td>\n",
       "      <td>True</td>\n",
       "    </tr>\n",
       "  </tbody>\n",
       "</table>\n",
       "</div>"
      ],
      "text/plain": [
       "                            sum  count      mean       std  test_stat  \\\n",
       "Referral Source Type Name                                               \n",
       "Parent                     2494  21530  0.115838  0.320038  22.636088   \n",
       "Foster Parent                72    413  0.174334  0.379857   8.178266   \n",
       "PT                           85    609  0.139573  0.346828   6.593837   \n",
       "DMRS                          1      1  1.000000       NaN   3.624611   \n",
       "Family and Friends           55    507  0.108481  0.311294   3.305154   \n",
       "Other                       221   2561  0.086294  0.280853   3.032475   \n",
       "Speech Therapist             64    638  0.100313  0.300653   2.903954   \n",
       "Dept. of Health             212   3631  0.058386  0.234504  -2.861933   \n",
       "NICU                        184   3232  0.056931  0.231746  -3.023765   \n",
       "Hospital                    422   7184  0.058742  0.235157  -3.859916   \n",
       "DCS                         728  25346  0.028722  0.167029 -24.870941   \n",
       "\n",
       "                                    pval high_or_low  significant  \n",
       "Referral Source Type Name                                          \n",
       "Parent                     1.912868e-113        high         True  \n",
       "Foster Parent               2.879585e-16        high         True  \n",
       "PT                          4.286034e-11        high         True  \n",
       "DMRS                        2.893972e-04        high         True  \n",
       "Family and Friends          9.492438e-04        high         True  \n",
       "Other                       2.425571e-03        high         True  \n",
       "Speech Therapist            3.684823e-03        high         True  \n",
       "Dept. of Health             4.210655e-03         low         True  \n",
       "NICU                        2.496500e-03         low         True  \n",
       "Hospital                    1.134260e-04         low         True  \n",
       "DCS                        1.535150e-136         low         True  "
      ]
     },
     "execution_count": 25,
     "metadata": {},
     "output_type": "execute_result"
    }
   ],
   "source": [
    "source_referral_significances = test_to_df(source_referral_success_rate, ztest_against_pop)\n",
    "source_referral_significances[source_referral_significances['significant']]"
   ]
  },
  {
   "cell_type": "markdown",
   "metadata": {},
   "source": [
    "## Q3 \n",
    "- How do POEs compare on these metrics:\n",
    "    - a low proportion of referrals\n",
    "    - a high average age of referrals\n",
    "    - a low percent of total referrals resulting in an IFSP\n",
    "    - a lower percent of eligible referrals resulting in an IFSP\n",
    "- Which POEs are of concern on the basis of one or more of the listed criteria?"
   ]
  },
  {
   "cell_type": "markdown",
   "metadata": {},
   "source": [
    "Low proportion of referrals"
   ]
  },
  {
   "cell_type": "code",
   "execution_count": 27,
   "metadata": {},
   "outputs": [
    {
     "data": {
      "text/plain": [
       "ET    0.178587\n",
       "GN    0.176203\n",
       "MD    0.152407\n",
       "SC    0.128311\n",
       "FT    0.098388\n",
       "UC    0.079669\n",
       "SE    0.075713\n",
       "NW    0.057445\n",
       "SW    0.053278\n",
       "Name: POE, dtype: float64"
      ]
     },
     "execution_count": 27,
     "metadata": {},
     "output_type": "execute_result"
    }
   ],
   "source": [
    "monthly['POE'].value_counts(normalize=True)"
   ]
  },
  {
   "cell_type": "markdown",
   "metadata": {},
   "source": [
    "Average age of referrals"
   ]
  },
  {
   "cell_type": "code",
   "execution_count": 28,
   "metadata": {},
   "outputs": [
    {
     "data": {
      "text/plain": [
       "467.2186374231829"
      ]
     },
     "execution_count": 28,
     "metadata": {},
     "output_type": "execute_result"
    }
   ],
   "source": [
    "monthly['Age Days'] = (monthly['Notification/ Referral Date'] - monthly['DOB']).dt.days\n",
    "overall_mean_age_at_referral = monthly['Age Days'].mean()\n",
    "overall_std_age_at_referral = monthly['Age Days'].std()\n",
    "overall_count_age_at_referral = monthly['Age Days'].count()\n",
    "\n",
    "overall_mean_age_at_referral"
   ]
  },
  {
   "cell_type": "code",
   "execution_count": 29,
   "metadata": {},
   "outputs": [],
   "source": [
    "age_by_poe = (monthly.groupby('POE')\n",
    "                    ['Age Days']\n",
    "                    .agg(['count', 'mean', 'std'])\n",
    "                    .sort_values('mean', ascending = False)\n",
    "        )"
   ]
  },
  {
   "cell_type": "code",
   "execution_count": 31,
   "metadata": {},
   "outputs": [
    {
     "data": {
      "text/html": [
       "<div>\n",
       "<style scoped>\n",
       "    .dataframe tbody tr th:only-of-type {\n",
       "        vertical-align: middle;\n",
       "    }\n",
       "\n",
       "    .dataframe tbody tr th {\n",
       "        vertical-align: top;\n",
       "    }\n",
       "\n",
       "    .dataframe thead th {\n",
       "        text-align: right;\n",
       "    }\n",
       "</style>\n",
       "<table border=\"1\" class=\"dataframe\">\n",
       "  <thead>\n",
       "    <tr style=\"text-align: right;\">\n",
       "      <th></th>\n",
       "      <th>count</th>\n",
       "      <th>mean</th>\n",
       "      <th>std</th>\n",
       "      <th>test_stat</th>\n",
       "      <th>pval</th>\n",
       "      <th>high_or_low</th>\n",
       "      <th>significant</th>\n",
       "    </tr>\n",
       "    <tr>\n",
       "      <th>POE</th>\n",
       "      <th></th>\n",
       "      <th></th>\n",
       "      <th></th>\n",
       "      <th></th>\n",
       "      <th></th>\n",
       "      <th></th>\n",
       "      <th></th>\n",
       "    </tr>\n",
       "  </thead>\n",
       "  <tbody>\n",
       "    <tr>\n",
       "      <th>SC</th>\n",
       "      <td>14532</td>\n",
       "      <td>518.637421</td>\n",
       "      <td>305.777595</td>\n",
       "      <td>18.302696</td>\n",
       "      <td>9.817826e-75</td>\n",
       "      <td>high</td>\n",
       "      <td>True</td>\n",
       "    </tr>\n",
       "    <tr>\n",
       "      <th>GN</th>\n",
       "      <td>19956</td>\n",
       "      <td>501.435157</td>\n",
       "      <td>312.301587</td>\n",
       "      <td>13.960336</td>\n",
       "      <td>2.924466e-44</td>\n",
       "      <td>high</td>\n",
       "      <td>True</td>\n",
       "    </tr>\n",
       "    <tr>\n",
       "      <th>UC</th>\n",
       "      <td>9023</td>\n",
       "      <td>473.284274</td>\n",
       "      <td>320.632159</td>\n",
       "      <td>1.730263</td>\n",
       "      <td>8.358590e-02</td>\n",
       "      <td>high</td>\n",
       "      <td>False</td>\n",
       "    </tr>\n",
       "    <tr>\n",
       "      <th>MD</th>\n",
       "      <td>17261</td>\n",
       "      <td>467.598169</td>\n",
       "      <td>319.341684</td>\n",
       "      <td>0.145011</td>\n",
       "      <td>8.847023e-01</td>\n",
       "      <td>high</td>\n",
       "      <td>False</td>\n",
       "    </tr>\n",
       "    <tr>\n",
       "      <th>ET</th>\n",
       "      <td>20226</td>\n",
       "      <td>451.421339</td>\n",
       "      <td>317.583887</td>\n",
       "      <td>-6.466493</td>\n",
       "      <td>1.006478e-10</td>\n",
       "      <td>low</td>\n",
       "      <td>True</td>\n",
       "    </tr>\n",
       "    <tr>\n",
       "      <th>SW</th>\n",
       "      <td>6034</td>\n",
       "      <td>437.171197</td>\n",
       "      <td>327.995627</td>\n",
       "      <td>-7.088257</td>\n",
       "      <td>1.365605e-12</td>\n",
       "      <td>low</td>\n",
       "      <td>True</td>\n",
       "    </tr>\n",
       "    <tr>\n",
       "      <th>SE</th>\n",
       "      <td>8575</td>\n",
       "      <td>435.652362</td>\n",
       "      <td>331.303092</td>\n",
       "      <td>-8.773355</td>\n",
       "      <td>1.755953e-18</td>\n",
       "      <td>low</td>\n",
       "      <td>True</td>\n",
       "    </tr>\n",
       "    <tr>\n",
       "      <th>NW</th>\n",
       "      <td>6506</td>\n",
       "      <td>428.345681</td>\n",
       "      <td>329.588518</td>\n",
       "      <td>-9.499875</td>\n",
       "      <td>2.138239e-21</td>\n",
       "      <td>low</td>\n",
       "      <td>True</td>\n",
       "    </tr>\n",
       "    <tr>\n",
       "      <th>FT</th>\n",
       "      <td>11143</td>\n",
       "      <td>425.316701</td>\n",
       "      <td>326.959108</td>\n",
       "      <td>-13.145730</td>\n",
       "      <td>1.913196e-39</td>\n",
       "      <td>low</td>\n",
       "      <td>True</td>\n",
       "    </tr>\n",
       "  </tbody>\n",
       "</table>\n",
       "</div>"
      ],
      "text/plain": [
       "     count        mean         std  test_stat          pval high_or_low  \\\n",
       "POE                                                                       \n",
       "SC   14532  518.637421  305.777595  18.302696  9.817826e-75        high   \n",
       "GN   19956  501.435157  312.301587  13.960336  2.924466e-44        high   \n",
       "UC    9023  473.284274  320.632159   1.730263  8.358590e-02        high   \n",
       "MD   17261  467.598169  319.341684   0.145011  8.847023e-01        high   \n",
       "ET   20226  451.421339  317.583887  -6.466493  1.006478e-10         low   \n",
       "SW    6034  437.171197  327.995627  -7.088257  1.365605e-12         low   \n",
       "SE    8575  435.652362  331.303092  -8.773355  1.755953e-18         low   \n",
       "NW    6506  428.345681  329.588518  -9.499875  2.138239e-21         low   \n",
       "FT   11143  425.316701  326.959108 -13.145730  1.913196e-39         low   \n",
       "\n",
       "     significant  \n",
       "POE               \n",
       "SC          True  \n",
       "GN          True  \n",
       "UC         False  \n",
       "MD         False  \n",
       "ET          True  \n",
       "SW          True  \n",
       "SE          True  \n",
       "NW          True  \n",
       "FT          True  "
      ]
     },
     "execution_count": 31,
     "metadata": {},
     "output_type": "execute_result"
    }
   ],
   "source": [
    "age_by_poe_significances = test_to_df(age_by_poe, ttest_against_pop)\n",
    "age_by_poe_significances"
   ]
  },
  {
   "cell_type": "markdown",
   "metadata": {},
   "source": [
    "## Q4\n",
    "Look for patterns in referrals and re-referrals on the basis of the following:\n",
    "- Age\n",
    "- Referral source\n",
    "- Socioeconomic status (County SES)\n"
   ]
  },
  {
   "cell_type": "code",
   "execution_count": null,
   "metadata": {},
   "outputs": [],
   "source": []
  },
  {
   "cell_type": "markdown",
   "metadata": {},
   "source": [
    "## Q5\n",
    "TEIS provides services to eligible infants and toddlers from birth to age 3. \n",
    "- Are there any POE with high rates of early closure (a child exiting before reaching age 3)? \n",
    "- Are there any service coordinators with high rates of early closure (a child exiting before reaching age 3)?\n",
    "\n",
    "For this question, only consider cases which have reached the IFSP phase."
   ]
  },
  {
   "cell_type": "code",
   "execution_count": null,
   "metadata": {},
   "outputs": [],
   "source": []
  }
 ],
 "metadata": {
  "interpreter": {
   "hash": "542466b5a324f1333f512993cba41ecf153bff5c08c85763ac424cb7f020baf3"
  },
  "kernelspec": {
   "display_name": "Python 3.8.8 ('base')",
   "language": "python",
   "name": "python3"
  },
  "language_info": {
   "codemirror_mode": {
    "name": "ipython",
    "version": 3
   },
   "file_extension": ".py",
   "mimetype": "text/x-python",
   "name": "python",
   "nbconvert_exporter": "python",
   "pygments_lexer": "ipython3",
   "version": "3.8.8"
  },
  "orig_nbformat": 4
 },
 "nbformat": 4,
 "nbformat_minor": 2
}
